{
 "cells": [
  {
   "cell_type": "code",
   "execution_count": 1,
   "metadata": {},
   "outputs": [],
   "source": [
    "from graphsage.model import load_cora"
   ]
  },
  {
   "cell_type": "code",
   "execution_count": 2,
   "metadata": {},
   "outputs": [],
   "source": [
    "import torch\n",
    "import torch.nn as nn\n",
    "from torch.nn import init\n",
    "from torch.autograd import Variable\n",
    "\n",
    "import numpy as np\n",
    "import time\n",
    "import random\n",
    "from sklearn.metrics import f1_score\n",
    "from collections import defaultdict\n",
    "\n",
    "from graphsage.encoders import Encoder\n",
    "from graphsage.aggregators import MeanAggregator"
   ]
  },
  {
   "cell_type": "code",
   "execution_count": 3,
   "metadata": {
    "scrolled": true
   },
   "outputs": [
    {
     "name": "stdout",
     "output_type": "stream",
     "text": [
      "0 tensor(24277.5801) tensor(0.4571) tensor(0.4482)\n",
      "20 tensor(18762.3965) tensor(0.4879) tensor(0.4783)\n",
      "40 tensor(14906.9697) tensor(0.5120) tensor(0.5002)\n",
      "60 tensor(12650.7539) tensor(0.5335) tensor(0.5214)\n",
      "80 tensor(11299.5527) tensor(0.5479) tensor(0.5380)\n",
      "100 tensor(10754.1162) tensor(0.5593) tensor(0.5456)\n",
      "120 tensor(10311.7881) tensor(0.5686) tensor(0.5537)\n",
      "140 tensor(9350.3770) tensor(0.5749) tensor(0.5614)\n",
      "160 tensor(9377.6377) tensor(0.5828) tensor(0.5678)\n",
      "180 tensor(9378.3691) tensor(0.5879) tensor(0.5719)\n",
      "200 tensor(9100.7725) tensor(0.5905) tensor(0.5764)\n",
      "220 tensor(9062.2256) tensor(0.5935) tensor(0.5785)\n",
      "240 tensor(9248.3857) tensor(0.5968) tensor(0.5805)\n",
      "260 tensor(8714.2520) tensor(0.5996) tensor(0.5827)\n",
      "280 tensor(8768.7920) tensor(0.6013) tensor(0.5859)\n",
      "300 tensor(9075.6582) tensor(0.6019) tensor(0.5861)\n",
      "320 tensor(8778.7539) tensor(0.6043) tensor(0.5871)\n",
      "340 tensor(8640.5947) tensor(0.6054) tensor(0.5894)\n",
      "360 tensor(8596.7549) tensor(0.6070) tensor(0.5902)\n",
      "380 tensor(8717.9717) tensor(0.6092) tensor(0.5903)\n",
      "400 tensor(8614.1602) tensor(0.6088) tensor(0.5921)\n",
      "420 tensor(8704.0703) tensor(0.6105) tensor(0.5940)\n",
      "440 tensor(8624.1963) tensor(0.6117) tensor(0.5954)\n",
      "460 tensor(8697.1543) tensor(0.6129) tensor(0.5960)\n",
      "480 tensor(8707.7061) tensor(0.6136) tensor(0.5956)\n",
      "500 tensor(8626.9102) tensor(0.6142) tensor(0.5965)\n",
      "520 tensor(8832.2568) tensor(0.6149) tensor(0.5979)\n",
      "540 tensor(8626.8838) tensor(0.6154) tensor(0.5982)\n",
      "560 tensor(8548.1162) tensor(0.6157) tensor(0.5974)\n",
      "580 tensor(8567.9053) tensor(0.6168) tensor(0.5971)\n",
      "600 tensor(8600.0449) tensor(0.6172) tensor(0.5991)\n",
      "620 tensor(8514.1680) tensor(0.6182) tensor(0.6008)\n",
      "640 tensor(8526.9004) tensor(0.6179) tensor(0.5996)\n",
      "660 tensor(8508.7402) tensor(0.6194) tensor(0.6002)\n",
      "680 tensor(8454.0342) tensor(0.6198) tensor(0.6003)\n",
      "700 tensor(8466.0918) tensor(0.6193) tensor(0.6002)\n",
      "720 tensor(8562.3672) tensor(0.6187) tensor(0.6012)\n",
      "740 tensor(8588.6807) tensor(0.6198) tensor(0.6024)\n",
      "760 tensor(8523.4883) tensor(0.6196) tensor(0.6025)\n",
      "780 tensor(8529.1367) tensor(0.6195) tensor(0.6031)\n",
      "800 tensor(8416.9766) tensor(0.6207) tensor(0.6051)\n",
      "820 tensor(8498.1924) tensor(0.6196) tensor(0.6044)\n",
      "840 tensor(8551.9131) tensor(0.6204) tensor(0.6037)\n",
      "860 tensor(8526.1631) tensor(0.6214) tensor(0.6058)\n",
      "880 tensor(8442.5254) tensor(0.6218) tensor(0.6061)\n",
      "900 tensor(8487.6924) tensor(0.6219) tensor(0.6048)\n",
      "920 tensor(8587.7471) tensor(0.6216) tensor(0.6046)\n",
      "940 tensor(8429.0449) tensor(0.6230) tensor(0.6062)\n",
      "960 tensor(8495.8193) tensor(0.6218) tensor(0.6057)\n",
      "980 tensor(8502.9502) tensor(0.6228) tensor(0.6061)\n"
     ]
    }
   ],
   "source": [
    "class SupervisedGraphSage(nn.Module):\n",
    "\n",
    "    def __init__(self, enc, degree_list):\n",
    "        super(SupervisedGraphSage, self).__init__()\n",
    "        self.enc = enc\n",
    "        self.xent = nn.BCELoss()\n",
    "        wt = np.power(degree_list, 0.75)\n",
    "        wt = wt / wt.sum()\n",
    "        self.weights = torch.FloatTensor(wt)\n",
    "        \n",
    "    def negative_sample(self, number_of_neg_sample):\n",
    "        return torch.multinomial(self.weights, number_of_neg_sample, \n",
    "                                 replacement=True)\n",
    "\n",
    "    def forward(self, nodes):\n",
    "        embeds = self.enc(nodes)\n",
    "        return embeds\n",
    "    \n",
    "    def affinity(self, input_1, input_2):\n",
    "        output_1 = torch.nn.functional.normalize(self.forward(input_1))\n",
    "        output_2 = torch.nn.functional.normalize(self.forward(input_2))\n",
    "        aff = torch.sum((output_1 * output_2), dim=1)\n",
    "        \n",
    "        return output_1, aff\n",
    "    \n",
    "    def neg_affinity(self, output_1, neg_samples):\n",
    "        neg_output = torch.nn.functional.normalize(self.forward(neg_samples))\n",
    "        neg_aff = torch.mm(output_1.t(),neg_output)\n",
    "        \n",
    "        return neg_aff\n",
    "\n",
    "    def loss(self, edges, neg_samples):\n",
    "        input_1 = [edge[0] for edge in edges]\n",
    "        input_2 = [edge[1] for edge in edges]\n",
    "        \n",
    "        output_1, aff = self.affinity(input_1, input_2)\n",
    "        neg_aff = self.neg_affinity(output_1, neg_samples)\n",
    "        \n",
    "        total_loss = 0\n",
    "        total_loss += - torch.sum(torch.log(torch.sigmoid(aff)))\n",
    "        total_loss += - len(neg_samples) * torch.sum((torch.log(torch.sigmoid(-neg_aff))))\n",
    "        \n",
    "        return total_loss\n",
    "    \n",
    "    def compare_loss(self, edges):\n",
    "        input_1 = [edge[0] for edge in edges]\n",
    "        input_2 = [edge[1] for edge in edges]\n",
    "        \n",
    "        _, aff = self.affinity(input_1, input_2)\n",
    "        total_loss = - torch.mean(torch.log(torch.sigmoid(aff)))\n",
    "        \n",
    "        return total_loss\n",
    "    \n",
    "num_nodes = 2708\n",
    "feat_data, labels, adj_lists = load_cora()\n",
    "features = nn.Embedding(2708, 1433)\n",
    "features.weight = nn.Parameter(torch.FloatTensor(feat_data), requires_grad=False)\n",
    "agg1 = MeanAggregator(features, cuda=True)\n",
    "enc1 = Encoder(features, 1433, 128, adj_lists, agg1, gcn=True, cuda=False)\n",
    "agg2 = MeanAggregator(lambda nodes : enc1(nodes).t(), cuda=False)\n",
    "enc2 = Encoder(lambda nodes : enc1(nodes).t(), enc1.embed_dim, 128, adj_lists, agg2,\n",
    "            base_model=enc1, gcn=True, cuda=False)\n",
    "enc1.num_samples = 5\n",
    "enc2.num_samples = 5\n",
    "rand_indices = np.random.permutation(num_nodes)\n",
    "test = rand_indices[:1000]\n",
    "val = rand_indices[1000:1500]\n",
    "train = list(rand_indices[1500:])\n",
    "train_degree_list = [len(adj_lists[node]) for node in train]\n",
    "train_edges = [(row, node) for row in train for node in adj_lists[row] if node in train]\n",
    "val_edges = [(row, node) for row in val for node in adj_lists[row] if node not in test]\n",
    "graphsage = SupervisedGraphSage(enc2, train_degree_list)\n",
    "optimizer = torch.optim.Adam(filter(lambda p : p.requires_grad, graphsage.parameters()), lr=0.0001)\n",
    "batch_size = 30\n",
    "number_of_neg_sample = 20\n",
    "times = []\n",
    "for batch in range(1000):\n",
    "    batch_edges = train_edges[:batch_size]\n",
    "    neg_samples = graphsage.negative_sample(number_of_neg_sample)\n",
    "    random.shuffle(train_edges)\n",
    "    start_time = time.time()\n",
    "    optimizer.zero_grad()\n",
    "    loss = graphsage.loss(batch_edges, neg_samples)\n",
    "    loss.backward()\n",
    "    optimizer.step()\n",
    "    end_time = time.time()\n",
    "    times.append(end_time-start_time)\n",
    "    if batch % 20 == 0:\n",
    "        loss_train =  graphsage.compare_loss(train_edges)\n",
    "        loss_val = graphsage.compare_loss(val_edges)\n",
    "        print(batch, loss.data, loss_train.data, loss_val.data)"
   ]
  },
  {
   "cell_type": "code",
   "execution_count": 4,
   "metadata": {},
   "outputs": [
    {
     "ename": "NameError",
     "evalue": "name 'rand_indices' is not defined",
     "output_type": "error",
     "traceback": [
      "\u001b[0;31m---------------------------------------------------------------------------\u001b[0m",
      "\u001b[0;31mNameError\u001b[0m                                 Traceback (most recent call last)",
      "\u001b[0;32m<ipython-input-4-0d997e5a33ac>\u001b[0m in \u001b[0;36m<module>\u001b[0;34m\u001b[0m\n\u001b[0;32m----> 1\u001b[0;31m \u001b[0mval\u001b[0m \u001b[0;34m=\u001b[0m \u001b[0mrand_indices\u001b[0m\u001b[0;34m[\u001b[0m\u001b[0;36m1000\u001b[0m\u001b[0;34m:\u001b[0m\u001b[0;36m1500\u001b[0m\u001b[0;34m]\u001b[0m\u001b[0;34m\u001b[0m\u001b[0;34m\u001b[0m\u001b[0m\n\u001b[0m",
      "\u001b[0;31mNameError\u001b[0m: name 'rand_indices' is not defined"
     ]
    }
   ],
   "source": [
    "val = rand_indices[1000:1500]"
   ]
  },
  {
   "cell_type": "code",
   "execution_count": 37,
   "metadata": {
    "collapsed": true
   },
   "outputs": [],
   "source": [
    "val_edges = [(row, node) for row in val for node in adj_lists[row] if node not in test]"
   ]
  },
  {
   "cell_type": "code",
   "execution_count": 6,
   "metadata": {},
   "outputs": [
    {
     "name": "stdout",
     "output_type": "stream",
     "text": [
      "README.md  Untitled.ipynb  cora  graphsage  practive.py  pubmed-data\r\n"
     ]
    }
   ],
   "source": [
    "!ls\n"
   ]
  },
  {
   "cell_type": "code",
   "execution_count": null,
   "metadata": {},
   "outputs": [],
   "source": []
  }
 ],
 "metadata": {
  "anaconda-cloud": {},
  "kernelspec": {
   "display_name": "Python 3",
   "language": "python",
   "name": "python3"
  },
  "language_info": {
   "codemirror_mode": {
    "name": "ipython",
    "version": 3
   },
   "file_extension": ".py",
   "mimetype": "text/x-python",
   "name": "python",
   "nbconvert_exporter": "python",
   "pygments_lexer": "ipython3",
   "version": "3.8.5"
  }
 },
 "nbformat": 4,
 "nbformat_minor": 1
}
